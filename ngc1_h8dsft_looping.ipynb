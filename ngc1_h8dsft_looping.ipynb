{
 "cells": [
  {
   "cell_type": "code",
   "execution_count": 1,
   "id": "4f11b1d1",
   "metadata": {},
   "outputs": [
    {
     "name": "stdout",
     "output_type": "stream",
     "text": [
      "951\n",
      "402\n",
      "984\n",
      "651\n",
      "360\n",
      "69\n",
      "408\n",
      "319\n",
      "601\n",
      "485\n",
      "980\n",
      "507\n",
      "725\n",
      "547\n",
      "544\n",
      "615\n",
      "83\n",
      "165\n",
      "141\n",
      "501\n",
      "263\n",
      "617\n",
      "865\n",
      "575\n",
      "219\n",
      "390\n",
      "984\n",
      "592\n",
      "236\n",
      "105\n",
      "942\n",
      "941\n",
      "386\n",
      "462\n",
      "47\n",
      "418\n",
      "907\n",
      "344\n",
      "236\n",
      "375\n",
      "823\n",
      "566\n",
      "597\n",
      "978\n",
      "328\n",
      "615\n",
      "953\n",
      "345\n",
      "399\n",
      "162\n",
      "758\n",
      "219\n",
      "Done.\n"
     ]
    }
   ],
   "source": [
    "for n in (951, 402, 984, 651, 360, 69, 408, 319, 601, 485,\n",
    "          980, 507, 725, 547, 544, 615, 83, 165, 141, 501, \n",
    "          263, 617, 865, 575, 219, 390, 984, 592, 236, 105, \n",
    "          942, 941, 386, 462, 47, 418, 907, 344, 236, 375, \n",
    "          823, 566, 597, 978, 328, 615, 953, 345, 399, 162, \n",
    "          758, 219, 918, 237, 412, 566, 826, 248, 866, 950, \n",
    "          626, 949):\n",
    "  n%2==0\n",
    "  if n==918:\n",
    "    break\n",
    "  print(n)\n",
    "print('Done.')\n"
   ]
  },
  {
   "cell_type": "code",
   "execution_count": 5,
   "id": "a58b3fe5",
   "metadata": {},
   "outputs": [],
   "source": [
    "numbers = [951, 402, 984, 651, 360, 69, 408, 319, 601, 485, 980, 507, 725, 547, 544, 615, 83, 165, 141, 501, 263, 617, 865, 575, 219, 390, 984, 592, 236, 105, 942, 941, 386, 462, 47, 418, 907, 344, 236, 375, 823, 566, 597, 978, 328, 615, 953, 345, 399, 162, 758, 219, 918, 237, 412, 566, 826, 248, 866, 950, 626, 949 ]"
   ]
  },
  {
   "cell_type": "code",
   "execution_count": 11,
   "id": "130fe402",
   "metadata": {},
   "outputs": [
    {
     "name": "stdout",
     "output_type": "stream",
     "text": [
      "402\n",
      "984\n",
      "360\n",
      "408\n",
      "980\n",
      "544\n",
      "390\n",
      "984\n",
      "592\n",
      "236\n",
      "942\n",
      "386\n",
      "462\n",
      "418\n",
      "344\n",
      "236\n",
      "566\n",
      "978\n",
      "328\n",
      "162\n",
      "758\n",
      "918\n",
      "412\n",
      "done.\n"
     ]
    }
   ],
   "source": [
    "for num in numbers:\n",
    "    if num%2==0:\n",
    "        print(num)\n",
    "    if num==412:\n",
    "        break\n",
    "print('done.')"
   ]
  },
  {
   "cell_type": "code",
   "execution_count": 12,
   "id": "6d13418b",
   "metadata": {
    "scrolled": false
   },
   "outputs": [
    {
     "name": "stdout",
     "output_type": "stream",
     "text": [
      "hello world\n"
     ]
    }
   ],
   "source": [
    "print('hello world')"
   ]
  }
 ],
 "metadata": {
  "kernelspec": {
   "display_name": "Python 3",
   "language": "python",
   "name": "python3"
  },
  "language_info": {
   "codemirror_mode": {
    "name": "ipython",
    "version": 3
   },
   "file_extension": ".py",
   "mimetype": "text/x-python",
   "name": "python",
   "nbconvert_exporter": "python",
   "pygments_lexer": "ipython3",
   "version": "3.8.8"
  }
 },
 "nbformat": 4,
 "nbformat_minor": 5
}
