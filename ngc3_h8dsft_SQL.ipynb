{
 "cells": [
  {
   "cell_type": "code",
   "execution_count": 5,
   "id": "3eea4402",
   "metadata": {},
   "outputs": [],
   "source": [
    "import numpy as np\n",
    "import pandas as pd\n",
    "import sqlite3"
   ]
  },
  {
   "cell_type": "code",
   "execution_count": 76,
   "id": "1a69fde0",
   "metadata": {},
   "outputs": [],
   "source": [
    "assessments = pd.read_csv('assessments.csv')\n",
    "courses = pd.read_csv('courses.csv')\n",
    "studentAssessment = pd.read_csv('studentAssessment.csv')\n",
    "studentInfo = pd.read_csv('studentInfo.csv')\n",
    "studentRegistration = pd.read_csv('studentRegistration.csv')\n",
    "df_vle = pd.read_csv('vle.csv')"
   ]
  },
  {
   "cell_type": "code",
   "execution_count": 78,
   "id": "90957aff",
   "metadata": {
    "scrolled": false
   },
   "outputs": [
    {
     "data": {
      "text/html": [
       "<div>\n",
       "<style scoped>\n",
       "    .dataframe tbody tr th:only-of-type {\n",
       "        vertical-align: middle;\n",
       "    }\n",
       "\n",
       "    .dataframe tbody tr th {\n",
       "        vertical-align: top;\n",
       "    }\n",
       "\n",
       "    .dataframe thead th {\n",
       "        text-align: right;\n",
       "    }\n",
       "</style>\n",
       "<table border=\"1\" class=\"dataframe\">\n",
       "  <thead>\n",
       "    <tr style=\"text-align: right;\">\n",
       "      <th></th>\n",
       "      <th>code_module</th>\n",
       "      <th>code_presentation</th>\n",
       "      <th>id_assessment</th>\n",
       "      <th>assessment_type</th>\n",
       "      <th>date</th>\n",
       "      <th>weight</th>\n",
       "    </tr>\n",
       "  </thead>\n",
       "  <tbody>\n",
       "    <tr>\n",
       "      <th>0</th>\n",
       "      <td>AAA</td>\n",
       "      <td>2013J</td>\n",
       "      <td>1752</td>\n",
       "      <td>TMA</td>\n",
       "      <td>19.0</td>\n",
       "      <td>10.0</td>\n",
       "    </tr>\n",
       "    <tr>\n",
       "      <th>1</th>\n",
       "      <td>AAA</td>\n",
       "      <td>2013J</td>\n",
       "      <td>1753</td>\n",
       "      <td>TMA</td>\n",
       "      <td>54.0</td>\n",
       "      <td>20.0</td>\n",
       "    </tr>\n",
       "  </tbody>\n",
       "</table>\n",
       "</div>"
      ],
      "text/plain": [
       "  code_module code_presentation  id_assessment assessment_type  date  weight\n",
       "0         AAA             2013J           1752             TMA  19.0    10.0\n",
       "1         AAA             2013J           1753             TMA  54.0    20.0"
      ]
     },
     "execution_count": 78,
     "metadata": {},
     "output_type": "execute_result"
    }
   ],
   "source": [
    "assessments.head(2)"
   ]
  },
  {
   "cell_type": "code",
   "execution_count": 79,
   "id": "e7c4d894",
   "metadata": {},
   "outputs": [
    {
     "data": {
      "text/html": [
       "<div>\n",
       "<style scoped>\n",
       "    .dataframe tbody tr th:only-of-type {\n",
       "        vertical-align: middle;\n",
       "    }\n",
       "\n",
       "    .dataframe tbody tr th {\n",
       "        vertical-align: top;\n",
       "    }\n",
       "\n",
       "    .dataframe thead th {\n",
       "        text-align: right;\n",
       "    }\n",
       "</style>\n",
       "<table border=\"1\" class=\"dataframe\">\n",
       "  <thead>\n",
       "    <tr style=\"text-align: right;\">\n",
       "      <th></th>\n",
       "      <th>code_module</th>\n",
       "      <th>code_presentation</th>\n",
       "      <th>module_presentation_length</th>\n",
       "    </tr>\n",
       "  </thead>\n",
       "  <tbody>\n",
       "    <tr>\n",
       "      <th>0</th>\n",
       "      <td>AAA</td>\n",
       "      <td>2013J</td>\n",
       "      <td>268</td>\n",
       "    </tr>\n",
       "    <tr>\n",
       "      <th>1</th>\n",
       "      <td>AAA</td>\n",
       "      <td>2014J</td>\n",
       "      <td>269</td>\n",
       "    </tr>\n",
       "  </tbody>\n",
       "</table>\n",
       "</div>"
      ],
      "text/plain": [
       "  code_module code_presentation  module_presentation_length\n",
       "0         AAA             2013J                         268\n",
       "1         AAA             2014J                         269"
      ]
     },
     "execution_count": 79,
     "metadata": {},
     "output_type": "execute_result"
    }
   ],
   "source": [
    "courses.head(2)"
   ]
  },
  {
   "cell_type": "code",
   "execution_count": 81,
   "id": "b9472acc",
   "metadata": {},
   "outputs": [
    {
     "data": {
      "text/html": [
       "<div>\n",
       "<style scoped>\n",
       "    .dataframe tbody tr th:only-of-type {\n",
       "        vertical-align: middle;\n",
       "    }\n",
       "\n",
       "    .dataframe tbody tr th {\n",
       "        vertical-align: top;\n",
       "    }\n",
       "\n",
       "    .dataframe thead th {\n",
       "        text-align: right;\n",
       "    }\n",
       "</style>\n",
       "<table border=\"1\" class=\"dataframe\">\n",
       "  <thead>\n",
       "    <tr style=\"text-align: right;\">\n",
       "      <th></th>\n",
       "      <th>id_assessment</th>\n",
       "      <th>id_student</th>\n",
       "      <th>date_submitted</th>\n",
       "      <th>is_banked</th>\n",
       "      <th>score</th>\n",
       "    </tr>\n",
       "  </thead>\n",
       "  <tbody>\n",
       "    <tr>\n",
       "      <th>0</th>\n",
       "      <td>1752</td>\n",
       "      <td>11391</td>\n",
       "      <td>18</td>\n",
       "      <td>0</td>\n",
       "      <td>78.0</td>\n",
       "    </tr>\n",
       "    <tr>\n",
       "      <th>1</th>\n",
       "      <td>1752</td>\n",
       "      <td>28400</td>\n",
       "      <td>22</td>\n",
       "      <td>0</td>\n",
       "      <td>70.0</td>\n",
       "    </tr>\n",
       "  </tbody>\n",
       "</table>\n",
       "</div>"
      ],
      "text/plain": [
       "   id_assessment  id_student  date_submitted  is_banked  score\n",
       "0           1752       11391              18          0   78.0\n",
       "1           1752       28400              22          0   70.0"
      ]
     },
     "execution_count": 81,
     "metadata": {},
     "output_type": "execute_result"
    }
   ],
   "source": [
    "studentAssessment.head(2)"
   ]
  },
  {
   "cell_type": "code",
   "execution_count": 80,
   "id": "d354950f",
   "metadata": {},
   "outputs": [
    {
     "data": {
      "text/html": [
       "<div>\n",
       "<style scoped>\n",
       "    .dataframe tbody tr th:only-of-type {\n",
       "        vertical-align: middle;\n",
       "    }\n",
       "\n",
       "    .dataframe tbody tr th {\n",
       "        vertical-align: top;\n",
       "    }\n",
       "\n",
       "    .dataframe thead th {\n",
       "        text-align: right;\n",
       "    }\n",
       "</style>\n",
       "<table border=\"1\" class=\"dataframe\">\n",
       "  <thead>\n",
       "    <tr style=\"text-align: right;\">\n",
       "      <th></th>\n",
       "      <th>code_module</th>\n",
       "      <th>code_presentation</th>\n",
       "      <th>id_student</th>\n",
       "      <th>gender</th>\n",
       "      <th>region</th>\n",
       "      <th>highest_education</th>\n",
       "      <th>imd_band</th>\n",
       "      <th>age_band</th>\n",
       "      <th>num_of_prev_attempts</th>\n",
       "      <th>studied_credits</th>\n",
       "      <th>disability</th>\n",
       "      <th>final_result</th>\n",
       "    </tr>\n",
       "  </thead>\n",
       "  <tbody>\n",
       "    <tr>\n",
       "      <th>0</th>\n",
       "      <td>AAA</td>\n",
       "      <td>2013J</td>\n",
       "      <td>11391</td>\n",
       "      <td>M</td>\n",
       "      <td>East Anglian Region</td>\n",
       "      <td>HE Qualification</td>\n",
       "      <td>90-100%</td>\n",
       "      <td>55&lt;=</td>\n",
       "      <td>0</td>\n",
       "      <td>240</td>\n",
       "      <td>N</td>\n",
       "      <td>Pass</td>\n",
       "    </tr>\n",
       "    <tr>\n",
       "      <th>1</th>\n",
       "      <td>AAA</td>\n",
       "      <td>2013J</td>\n",
       "      <td>28400</td>\n",
       "      <td>F</td>\n",
       "      <td>Scotland</td>\n",
       "      <td>HE Qualification</td>\n",
       "      <td>20-30%</td>\n",
       "      <td>35-55</td>\n",
       "      <td>0</td>\n",
       "      <td>60</td>\n",
       "      <td>N</td>\n",
       "      <td>Pass</td>\n",
       "    </tr>\n",
       "  </tbody>\n",
       "</table>\n",
       "</div>"
      ],
      "text/plain": [
       "  code_module code_presentation  id_student gender               region  \\\n",
       "0         AAA             2013J       11391      M  East Anglian Region   \n",
       "1         AAA             2013J       28400      F             Scotland   \n",
       "\n",
       "  highest_education imd_band age_band  num_of_prev_attempts  studied_credits  \\\n",
       "0  HE Qualification  90-100%     55<=                     0              240   \n",
       "1  HE Qualification   20-30%    35-55                     0               60   \n",
       "\n",
       "  disability final_result  \n",
       "0          N         Pass  \n",
       "1          N         Pass  "
      ]
     },
     "execution_count": 80,
     "metadata": {},
     "output_type": "execute_result"
    }
   ],
   "source": [
    "studentInfo.head(2)"
   ]
  },
  {
   "cell_type": "code",
   "execution_count": 82,
   "id": "cbbb997d",
   "metadata": {},
   "outputs": [
    {
     "data": {
      "text/html": [
       "<div>\n",
       "<style scoped>\n",
       "    .dataframe tbody tr th:only-of-type {\n",
       "        vertical-align: middle;\n",
       "    }\n",
       "\n",
       "    .dataframe tbody tr th {\n",
       "        vertical-align: top;\n",
       "    }\n",
       "\n",
       "    .dataframe thead th {\n",
       "        text-align: right;\n",
       "    }\n",
       "</style>\n",
       "<table border=\"1\" class=\"dataframe\">\n",
       "  <thead>\n",
       "    <tr style=\"text-align: right;\">\n",
       "      <th></th>\n",
       "      <th>code_module</th>\n",
       "      <th>code_presentation</th>\n",
       "      <th>id_student</th>\n",
       "      <th>date_registration</th>\n",
       "      <th>date_unregistration</th>\n",
       "    </tr>\n",
       "  </thead>\n",
       "  <tbody>\n",
       "    <tr>\n",
       "      <th>0</th>\n",
       "      <td>AAA</td>\n",
       "      <td>2013J</td>\n",
       "      <td>11391</td>\n",
       "      <td>-159.0</td>\n",
       "      <td>NaN</td>\n",
       "    </tr>\n",
       "    <tr>\n",
       "      <th>1</th>\n",
       "      <td>AAA</td>\n",
       "      <td>2013J</td>\n",
       "      <td>28400</td>\n",
       "      <td>-53.0</td>\n",
       "      <td>NaN</td>\n",
       "    </tr>\n",
       "  </tbody>\n",
       "</table>\n",
       "</div>"
      ],
      "text/plain": [
       "  code_module code_presentation  id_student  date_registration  \\\n",
       "0         AAA             2013J       11391             -159.0   \n",
       "1         AAA             2013J       28400              -53.0   \n",
       "\n",
       "   date_unregistration  \n",
       "0                  NaN  \n",
       "1                  NaN  "
      ]
     },
     "execution_count": 82,
     "metadata": {},
     "output_type": "execute_result"
    }
   ],
   "source": [
    "studentRegistration.head(2)"
   ]
  },
  {
   "cell_type": "code",
   "execution_count": 83,
   "id": "207d9fe8",
   "metadata": {},
   "outputs": [
    {
     "data": {
      "text/html": [
       "<div>\n",
       "<style scoped>\n",
       "    .dataframe tbody tr th:only-of-type {\n",
       "        vertical-align: middle;\n",
       "    }\n",
       "\n",
       "    .dataframe tbody tr th {\n",
       "        vertical-align: top;\n",
       "    }\n",
       "\n",
       "    .dataframe thead th {\n",
       "        text-align: right;\n",
       "    }\n",
       "</style>\n",
       "<table border=\"1\" class=\"dataframe\">\n",
       "  <thead>\n",
       "    <tr style=\"text-align: right;\">\n",
       "      <th></th>\n",
       "      <th>id_site</th>\n",
       "      <th>code_module</th>\n",
       "      <th>code_presentation</th>\n",
       "      <th>activity_type</th>\n",
       "      <th>week_from</th>\n",
       "      <th>week_to</th>\n",
       "    </tr>\n",
       "  </thead>\n",
       "  <tbody>\n",
       "    <tr>\n",
       "      <th>0</th>\n",
       "      <td>546943</td>\n",
       "      <td>AAA</td>\n",
       "      <td>2013J</td>\n",
       "      <td>resource</td>\n",
       "      <td>NaN</td>\n",
       "      <td>NaN</td>\n",
       "    </tr>\n",
       "    <tr>\n",
       "      <th>1</th>\n",
       "      <td>546712</td>\n",
       "      <td>AAA</td>\n",
       "      <td>2013J</td>\n",
       "      <td>oucontent</td>\n",
       "      <td>NaN</td>\n",
       "      <td>NaN</td>\n",
       "    </tr>\n",
       "  </tbody>\n",
       "</table>\n",
       "</div>"
      ],
      "text/plain": [
       "   id_site code_module code_presentation activity_type  week_from  week_to\n",
       "0   546943         AAA             2013J      resource        NaN      NaN\n",
       "1   546712         AAA             2013J     oucontent        NaN      NaN"
      ]
     },
     "execution_count": 83,
     "metadata": {},
     "output_type": "execute_result"
    }
   ],
   "source": [
    "df_vle.head(2)"
   ]
  },
  {
   "cell_type": "code",
   "execution_count": 3,
   "id": "59523362",
   "metadata": {},
   "outputs": [
    {
     "ename": "SyntaxError",
     "evalue": "invalid syntax (<ipython-input-3-7c8e25c89f52>, line 1)",
     "output_type": "error",
     "traceback": [
      "\u001b[1;36m  File \u001b[1;32m\"<ipython-input-3-7c8e25c89f52>\"\u001b[1;36m, line \u001b[1;32m1\u001b[0m\n\u001b[1;33m    select_table =\u001b[0m\n\u001b[1;37m                   ^\u001b[0m\n\u001b[1;31mSyntaxError\u001b[0m\u001b[1;31m:\u001b[0m invalid syntax\n"
     ]
    }
   ],
   "source": [
    "select_table = \n",
    "'''\n",
    "SELECT student_registration.id_student, student_info.region, student_registration.code_module, assessment.assessment_type, student_assessment.score\n",
    "FROM student_registration\n",
    "JOIN student_info\n",
    "ON student_registration.id_student = student_info.id_student\n",
    "JOIN assessment\n",
    "ON student_registration.code_module = assessment.code_module\n",
    "WHERE code_presentation = 2014B\n",
    "'''"
   ]
  },
  {
   "cell_type": "markdown",
   "id": "e19c077b",
   "metadata": {},
   "source": [
    "# cleaning data frame bertujuan supaya menghilangkan eror saat di input ke dalam database"
   ]
  },
  {
   "cell_type": "code",
   "execution_count": null,
   "id": "35b15e71",
   "metadata": {
    "scrolled": true
   },
   "outputs": [],
   "source": [
    "assessments.head(2)"
   ]
  },
  {
   "cell_type": "code",
   "execution_count": null,
   "id": "63daac14",
   "metadata": {},
   "outputs": [],
   "source": [
    "assessments['date'].mean()"
   ]
  },
  {
   "cell_type": "code",
   "execution_count": null,
   "id": "4173c1c3",
   "metadata": {},
   "outputs": [],
   "source": [
    "# data kosong di kolom date di ganti dengan rata2nya karena hanya sedikit data kosong\n",
    "assessments['date'].fillna(assessments['date'].mean(), inplace=True)"
   ]
  },
  {
   "cell_type": "code",
   "execution_count": null,
   "id": "11fc924e",
   "metadata": {
    "scrolled": false
   },
   "outputs": [],
   "source": [
    "courses.head(2)"
   ]
  },
  {
   "cell_type": "code",
   "execution_count": null,
   "id": "02ce8640",
   "metadata": {
    "scrolled": false
   },
   "outputs": [],
   "source": [
    "studentAssessment['score'].mean()"
   ]
  },
  {
   "cell_type": "code",
   "execution_count": null,
   "id": "0a024b74",
   "metadata": {
    "scrolled": true
   },
   "outputs": [],
   "source": [
    "studentAssessment.head(2)"
   ]
  },
  {
   "cell_type": "code",
   "execution_count": null,
   "id": "54ee477a",
   "metadata": {},
   "outputs": [],
   "source": [
    "# data kosong di kolom score diganti dengan rata2nya karena tidak ada nilai/bobot yang kosong pada murid \n",
    "studentAssessment['score'].fillna(studentAssessment['score'].mean(), inplace=True)"
   ]
  },
  {
   "cell_type": "code",
   "execution_count": null,
   "id": "fc5fa0e0",
   "metadata": {},
   "outputs": [],
   "source": [
    "studentInfo.head(2)"
   ]
  },
  {
   "cell_type": "code",
   "execution_count": null,
   "id": "0c766d2a",
   "metadata": {},
   "outputs": [],
   "source": [
    "# data kosong di kolom unregistration diganti dengan 0 karena mungkin terdaftar\n",
    "studentRegistration['date_unregistration'].fillna(0, inplace=True)"
   ]
  },
  {
   "cell_type": "code",
   "execution_count": null,
   "id": "10545435",
   "metadata": {},
   "outputs": [],
   "source": [
    "# data kosong di kolom registration diganti dengan 0 karena mungkin tidak terdaftar\n",
    "studentRegistration['date_registration'].fillna(0, inplace=True)"
   ]
  },
  {
   "cell_type": "code",
   "execution_count": null,
   "id": "195d970a",
   "metadata": {},
   "outputs": [],
   "source": [
    "studentRegistration.head(2)"
   ]
  },
  {
   "cell_type": "code",
   "execution_count": 58,
   "id": "1248fb53",
   "metadata": {},
   "outputs": [
    {
     "data": {
      "text/html": [
       "<div>\n",
       "<style scoped>\n",
       "    .dataframe tbody tr th:only-of-type {\n",
       "        vertical-align: middle;\n",
       "    }\n",
       "\n",
       "    .dataframe tbody tr th {\n",
       "        vertical-align: top;\n",
       "    }\n",
       "\n",
       "    .dataframe thead th {\n",
       "        text-align: right;\n",
       "    }\n",
       "</style>\n",
       "<table border=\"1\" class=\"dataframe\">\n",
       "  <thead>\n",
       "    <tr style=\"text-align: right;\">\n",
       "      <th></th>\n",
       "      <th>id_site</th>\n",
       "      <th>code_module</th>\n",
       "      <th>code_presentation</th>\n",
       "      <th>activity_type</th>\n",
       "      <th>week_from</th>\n",
       "      <th>week_to</th>\n",
       "    </tr>\n",
       "  </thead>\n",
       "  <tbody>\n",
       "    <tr>\n",
       "      <th>0</th>\n",
       "      <td>546943</td>\n",
       "      <td>AAA</td>\n",
       "      <td>2013J</td>\n",
       "      <td>resource</td>\n",
       "      <td>NaN</td>\n",
       "      <td>NaN</td>\n",
       "    </tr>\n",
       "    <tr>\n",
       "      <th>1</th>\n",
       "      <td>546712</td>\n",
       "      <td>AAA</td>\n",
       "      <td>2013J</td>\n",
       "      <td>oucontent</td>\n",
       "      <td>NaN</td>\n",
       "      <td>NaN</td>\n",
       "    </tr>\n",
       "  </tbody>\n",
       "</table>\n",
       "</div>"
      ],
      "text/plain": [
       "   id_site code_module code_presentation activity_type  week_from  week_to\n",
       "0   546943         AAA             2013J      resource        NaN      NaN\n",
       "1   546712         AAA             2013J     oucontent        NaN      NaN"
      ]
     },
     "execution_count": 58,
     "metadata": {},
     "output_type": "execute_result"
    }
   ],
   "source": [
    "df_vle.head(2)"
   ]
  },
  {
   "cell_type": "code",
   "execution_count": 68,
   "id": "98bc294c",
   "metadata": {
    "scrolled": false
   },
   "outputs": [
    {
     "name": "stdout",
     "output_type": "stream",
     "text": [
      "<class 'pandas.core.frame.DataFrame'>\n",
      "RangeIndex: 6364 entries, 0 to 6363\n",
      "Data columns (total 6 columns):\n",
      " #   Column             Non-Null Count  Dtype  \n",
      "---  ------             --------------  -----  \n",
      " 0   id_site            6364 non-null   int64  \n",
      " 1   code_module        6364 non-null   object \n",
      " 2   code_presentation  6364 non-null   object \n",
      " 3   activity_type      6364 non-null   object \n",
      " 4   week_from          1121 non-null   float64\n",
      " 5   week_to            1121 non-null   float64\n",
      "dtypes: float64(2), int64(1), object(3)\n",
      "memory usage: 298.4+ KB\n"
     ]
    }
   ],
   "source": [
    "df_vle.info()"
   ]
  },
  {
   "cell_type": "code",
   "execution_count": 69,
   "id": "befd9a8a",
   "metadata": {},
   "outputs": [],
   "source": [
    "# hapus kolom week_from dan week_to karena jumlah yang kosong terlalu banyak \n",
    "hapus = ['week_from', 'week_to']\n",
    "df_vle.drop(hapus, inplace=True, axis=1 )"
   ]
  },
  {
   "cell_type": "code",
   "execution_count": 70,
   "id": "6494d4b0",
   "metadata": {},
   "outputs": [
    {
     "data": {
      "text/html": [
       "<div>\n",
       "<style scoped>\n",
       "    .dataframe tbody tr th:only-of-type {\n",
       "        vertical-align: middle;\n",
       "    }\n",
       "\n",
       "    .dataframe tbody tr th {\n",
       "        vertical-align: top;\n",
       "    }\n",
       "\n",
       "    .dataframe thead th {\n",
       "        text-align: right;\n",
       "    }\n",
       "</style>\n",
       "<table border=\"1\" class=\"dataframe\">\n",
       "  <thead>\n",
       "    <tr style=\"text-align: right;\">\n",
       "      <th></th>\n",
       "      <th>id_site</th>\n",
       "      <th>code_module</th>\n",
       "      <th>code_presentation</th>\n",
       "      <th>activity_type</th>\n",
       "    </tr>\n",
       "  </thead>\n",
       "  <tbody>\n",
       "    <tr>\n",
       "      <th>0</th>\n",
       "      <td>546943</td>\n",
       "      <td>AAA</td>\n",
       "      <td>2013J</td>\n",
       "      <td>resource</td>\n",
       "    </tr>\n",
       "    <tr>\n",
       "      <th>1</th>\n",
       "      <td>546712</td>\n",
       "      <td>AAA</td>\n",
       "      <td>2013J</td>\n",
       "      <td>oucontent</td>\n",
       "    </tr>\n",
       "    <tr>\n",
       "      <th>2</th>\n",
       "      <td>546998</td>\n",
       "      <td>AAA</td>\n",
       "      <td>2013J</td>\n",
       "      <td>resource</td>\n",
       "    </tr>\n",
       "    <tr>\n",
       "      <th>3</th>\n",
       "      <td>546888</td>\n",
       "      <td>AAA</td>\n",
       "      <td>2013J</td>\n",
       "      <td>url</td>\n",
       "    </tr>\n",
       "    <tr>\n",
       "      <th>4</th>\n",
       "      <td>547035</td>\n",
       "      <td>AAA</td>\n",
       "      <td>2013J</td>\n",
       "      <td>resource</td>\n",
       "    </tr>\n",
       "  </tbody>\n",
       "</table>\n",
       "</div>"
      ],
      "text/plain": [
       "   id_site code_module code_presentation activity_type\n",
       "0   546943         AAA             2013J      resource\n",
       "1   546712         AAA             2013J     oucontent\n",
       "2   546998         AAA             2013J      resource\n",
       "3   546888         AAA             2013J           url\n",
       "4   547035         AAA             2013J      resource"
      ]
     },
     "execution_count": 70,
     "metadata": {},
     "output_type": "execute_result"
    }
   ],
   "source": [
    "df_vle.head()"
   ]
  },
  {
   "cell_type": "markdown",
   "id": "2bd9a44d",
   "metadata": {},
   "source": [
    "# create table dan insert table dari data frame yg telah di buat di atas"
   ]
  },
  {
   "cell_type": "code",
   "execution_count": 7,
   "id": "1497dbec",
   "metadata": {},
   "outputs": [],
   "source": [
    "# fungsi untuk connect ke database\n",
    "def create_connection(path):\n",
    "    connection=sqlite3.connect(path)\n",
    "    return(connection)\n",
    "\n",
    "connection = create_connection('latihan.DB')"
   ]
  },
  {
   "cell_type": "code",
   "execution_count": 8,
   "id": "c991881d",
   "metadata": {},
   "outputs": [],
   "source": [
    "# query untuk non select\n",
    "def execute_command(conn,query):    \n",
    "    cur = conn.cursor()    \n",
    "    cur.execute(query)    \n",
    "    conn.commit()"
   ]
  },
  {
   "cell_type": "code",
   "execution_count": 9,
   "id": "44f5362f",
   "metadata": {},
   "outputs": [],
   "source": [
    "# query untuk select\n",
    "def select_query(conn,query):\n",
    "    cur = conn.cursor()\n",
    "    cur.executed(query)\n",
    "    rows = cur.fetchall()\n",
    "    \n",
    "    for row in rows:\n",
    "        print(row)\n",
    "\n",
    "# pandas.read_sql_query(query,connection)\n",
    "# Q = select * from teachers;\n",
    "# pd.read_sql_query(Q,connection)"
   ]
  },
  {
   "cell_type": "markdown",
   "id": "cb8a5531",
   "metadata": {},
   "source": [
    "# 1. membuat dan isi tabel assessments"
   ]
  },
  {
   "cell_type": "code",
   "execution_count": null,
   "id": "88e0d096",
   "metadata": {},
   "outputs": [],
   "source": [
    "delete='''DROP TABLE assessments'''\n",
    "execute_command(connection,delete)"
   ]
  },
  {
   "cell_type": "code",
   "execution_count": null,
   "id": "ab9f1bd0",
   "metadata": {
    "scrolled": false
   },
   "outputs": [],
   "source": [
    "table_ass ='''\n",
    "CREATE TABLE assessments(\n",
    "    id INTEGER PRIMARY KEY AUTOINCREMENT,\n",
    "    code_module varchar (50),\n",
    "    code_presentation varchar(50),\n",
    "    id_assessment numeric,\n",
    "    assessment_type varchar(50),\n",
    "    date numeric,\n",
    "    weight numeric\n",
    ");\n",
    "'''\n",
    "\n",
    "execute_command(connection, table_ass)"
   ]
  },
  {
   "cell_type": "code",
   "execution_count": null,
   "id": "1e9c6819",
   "metadata": {},
   "outputs": [],
   "source": [
    "for i in range (len(assessments)):\n",
    "    ass=assessments.loc[i]\n",
    "    create_row='''\n",
    "    INSERT INTO assessments('code_module', 'code_presentation', 'id_assessment', 'assessment_type', 'date', 'weight')\n",
    "    VALUES('{}','{}',{},'{}',{},{})\n",
    "    '''.format(ass['code_module'],ass['code_presentation'],ass['id_assessment'],ass['assessment_type'],ass['date'],ass['weight'])\n",
    "    execute_command(connection,create_row)"
   ]
  },
  {
   "cell_type": "code",
   "execution_count": null,
   "id": "6452bdb8",
   "metadata": {
    "scrolled": true
   },
   "outputs": [],
   "source": [
    "pd.read_sql_query('select * from assessments',connection).head(5)"
   ]
  },
  {
   "cell_type": "code",
   "execution_count": null,
   "id": "d170dea0",
   "metadata": {
    "scrolled": true
   },
   "outputs": [],
   "source": [
    "assessments.head(5)"
   ]
  },
  {
   "cell_type": "markdown",
   "id": "8bcafa35",
   "metadata": {},
   "source": [
    "# 2. membuat dan isi tabel courses"
   ]
  },
  {
   "cell_type": "code",
   "execution_count": null,
   "id": "567f2225",
   "metadata": {},
   "outputs": [],
   "source": [
    "delete='''DROP TABLE courses'''\n",
    "execute_command(connection,delete)"
   ]
  },
  {
   "cell_type": "code",
   "execution_count": null,
   "id": "31174761",
   "metadata": {},
   "outputs": [],
   "source": [
    "table_cour='''\n",
    "CREATE TABLE courses(\n",
    "    id INTEGER PRIMARY KEY AUTOINCREMENT,\n",
    "    code_module varchar(50),\n",
    "    code_presentation varchar(50),\n",
    "    module_presentation_length numeric\n",
    ");\n",
    "'''\n",
    "execute_command(connection,table_cour)"
   ]
  },
  {
   "cell_type": "code",
   "execution_count": null,
   "id": "0596703a",
   "metadata": {},
   "outputs": [],
   "source": [
    "for i in range (len(courses)):\n",
    "    cour=courses.loc[i]\n",
    "    create_row='''\n",
    "    INSERT INTO courses('code_module', 'code_presentation', 'module_presentation_length')\n",
    "    VALUES('{}','{}',{})'''.format(cour['code_module'], cour['code_presentation'], cour['module_presentation_length'])\n",
    "    \n",
    "    execute_command(connection,create_row)"
   ]
  },
  {
   "cell_type": "markdown",
   "id": "d6e43c48",
   "metadata": {},
   "source": [
    "# 3. membuat dan isi tabel studentAssessment"
   ]
  },
  {
   "cell_type": "code",
   "execution_count": null,
   "id": "933c934e",
   "metadata": {},
   "outputs": [],
   "source": [
    "delete='''DROP TABLE student_assessment'''\n",
    "execute_command(connection,delete)"
   ]
  },
  {
   "cell_type": "code",
   "execution_count": null,
   "id": "6d07f4a4",
   "metadata": {
    "scrolled": true
   },
   "outputs": [],
   "source": [
    "table_student_ass='''\n",
    "CREATE TABLE student_assessment(\n",
    "    id INTEGER PRIMARY KEY AUTOINCREMENT,\n",
    "    id_assessment numeric,\n",
    "    id_student numeric,\n",
    "    date_submitted numeric,\n",
    "    is_banked numeric,\n",
    "    score numeric\n",
    ");\n",
    "'''\n",
    "execute_command(connection,table_student_ass)"
   ]
  },
  {
   "cell_type": "code",
   "execution_count": null,
   "id": "2da00ef8",
   "metadata": {},
   "outputs": [],
   "source": [
    "for i in range (len(studentAssessment)):\n",
    "    student_ass=studentAssessment.loc[i]\n",
    "    create_row='''\n",
    "    INSERT INTO student_assessment('id_assessment', 'id_student', 'date_submitted', 'is_banked', 'score')\n",
    "    VALUES({},{},{},{},{})'''.format(student_ass['id_assessment'], student_ass['id_student'], \n",
    "                                     student_ass['date_submitted'], student_ass['is_banked'], student_ass['score'])\n",
    "    \n",
    "    execute_command(connection,create_row)"
   ]
  },
  {
   "cell_type": "markdown",
   "id": "694c013d",
   "metadata": {},
   "source": [
    "# 4. membuat dan isi tabel studentInfo"
   ]
  },
  {
   "cell_type": "code",
   "execution_count": null,
   "id": "9f8b1ef6",
   "metadata": {},
   "outputs": [],
   "source": [
    "delete='''drop table student_info'''\n",
    "execute_command(connection, delete)"
   ]
  },
  {
   "cell_type": "code",
   "execution_count": null,
   "id": "0f322e52",
   "metadata": {},
   "outputs": [],
   "source": [
    "table_student_inf='''\n",
    "CREATE TABLE student_info(\n",
    "    id INTEGER PRIMARY KEY AUTOINCREMENT,\n",
    "    code_module varchar(50),\n",
    "    code_presentation varchar(50),\n",
    "    id_student numeric,\n",
    "    gender varchar(50),\n",
    "    region varchar(50),\n",
    "    highest_education varchar(50),\n",
    "    imd_band varchar (50),\n",
    "    age_band varchar(50),\n",
    "    num_of_prev_attempts numeric,\n",
    "    studied_credits numeric,\n",
    "    disability varchar(50),\n",
    "    final_result varchar(50)    \n",
    ");\n",
    "'''\n",
    "execute_command(connection,table_student_inf)"
   ]
  },
  {
   "cell_type": "code",
   "execution_count": null,
   "id": "ad38cada",
   "metadata": {},
   "outputs": [],
   "source": [
    "for i in range(len(studentInfo)):\n",
    "    student_info=studentInfo.loc[i]\n",
    "    create_row='''\n",
    "    INSERT INTO student_info('code_module', 'code_presentation', 'id_student', 'gender', 'region', 'highest_education',\n",
    "    'imd_band', 'age_band', 'num_of_prev_attempts', 'studied_credits', 'disability', 'final_result')\n",
    "    VALUES ('{}','{}',{},'{}','{}','{}','{}','{}',{},{},'{}','{}')\n",
    "    '''.format(student_info['code_module'], student_info['code_presentation'], student_info['id_student'], student_info['gender'],\n",
    "        student_info['region'], student_info['highest_education'], student_info['imd_band'], student_info['age_band'], student_info['num_of_prev_attempts'],\n",
    "        student_info['studied_credits'], student_info['disability'], student_info['final_result'])\n",
    "    execute_command(connection,create_row)"
   ]
  },
  {
   "cell_type": "markdown",
   "id": "0a8d36b6",
   "metadata": {},
   "source": [
    "# 5. membuat dan isi tabel studentRegistration"
   ]
  },
  {
   "cell_type": "code",
   "execution_count": null,
   "id": "3a886a8b",
   "metadata": {},
   "outputs": [],
   "source": [
    "delete='''DROP TABLE student_registration'''\n",
    "execute_command(connection,delete)"
   ]
  },
  {
   "cell_type": "code",
   "execution_count": 4,
   "id": "a0df439a",
   "metadata": {},
   "outputs": [
    {
     "ename": "NameError",
     "evalue": "name 'execute_command' is not defined",
     "output_type": "error",
     "traceback": [
      "\u001b[1;31m---------------------------------------------------------------------------\u001b[0m",
      "\u001b[1;31mNameError\u001b[0m                                 Traceback (most recent call last)",
      "\u001b[1;32m<ipython-input-4-a5b2b23183a5>\u001b[0m in \u001b[0;36m<module>\u001b[1;34m\u001b[0m\n\u001b[0;32m      8\u001b[0m     date_unregistration numeric);\n\u001b[0;32m      9\u001b[0m     '''\n\u001b[1;32m---> 10\u001b[1;33m \u001b[0mexecute_command\u001b[0m\u001b[1;33m(\u001b[0m\u001b[0mconnection\u001b[0m\u001b[1;33m,\u001b[0m\u001b[0mtable_student_regis\u001b[0m\u001b[1;33m)\u001b[0m\u001b[1;33m\u001b[0m\u001b[1;33m\u001b[0m\u001b[0m\n\u001b[0m",
      "\u001b[1;31mNameError\u001b[0m: name 'execute_command' is not defined"
     ]
    }
   ],
   "source": [
    "table_student_regis='''\n",
    "CREATE TABLE student_registration(\n",
    "    id INTEGER PRIMARY KEY AUTOINCREMENT,\n",
    "    code_module varchar(50), \n",
    "    code_presentation varchar(50),\n",
    "    id_student numeric, \n",
    "    date_registration numeric ,\n",
    "    date_unregistration numeric);\n",
    "    '''\n",
    "execute_command(connection,table_student_regis)"
   ]
  },
  {
   "cell_type": "code",
   "execution_count": null,
   "id": "3b07bf87",
   "metadata": {},
   "outputs": [],
   "source": [
    "for i in range(len(studentRegistration)):\n",
    "    student_regis=studentRegistration.loc[i]\n",
    "    create_row='''\n",
    "    INSERT INTO student_registration('code_module', 'code_presentation', 'id_student', 'date_registration', 'date_unregistration')\n",
    "    VALUES('{}','{}',{},{},{})\n",
    "    '''.format(student_regis['code_module'], student_regis['code_presentation'], student_regis['id_student'], student_regis['date_registration'],\n",
    "              student_regis['date_unregistration'],)\n",
    "    execute_command(connection,create_row)"
   ]
  },
  {
   "cell_type": "markdown",
   "id": "d30b594d",
   "metadata": {},
   "source": [
    "# 6. membuat dan isi tabel vle"
   ]
  },
  {
   "cell_type": "code",
   "execution_count": 71,
   "id": "200d2c53",
   "metadata": {},
   "outputs": [],
   "source": [
    "delete='''DROP TABLE vle'''\n",
    "execute_command(connection,delete)"
   ]
  },
  {
   "cell_type": "code",
   "execution_count": 72,
   "id": "bb43f94e",
   "metadata": {},
   "outputs": [],
   "source": [
    "table_vle='''\n",
    "CREATE TABLE vle(\n",
    "    id INTEGER PRIMARY KEY AUTOINCREMENT,\n",
    "    id_site numeric,\n",
    "    code_module varchar(50),\n",
    "    code_presentation varchar(50),\n",
    "    activity_type varchar(50),\n",
    "    week_from varchar(50),\n",
    "    week_to varchar(50)\n",
    "    );'''\n",
    "\n",
    "execute_command(connection,table_vle)"
   ]
  },
  {
   "cell_type": "code",
   "execution_count": 74,
   "id": "2fc2870b",
   "metadata": {},
   "outputs": [],
   "source": [
    "for i in range(len(df_vle)):\n",
    "    vle=df_vle.loc[i]\n",
    "    create_row='''\n",
    "    INSERT INTO vle('id_site', 'code_module', 'code_presentation', 'activity_type')\n",
    "    VALUES ({},'{}','{}','{}')\n",
    "    '''.format(vle['id_site'], vle['code_module'], vle['code_presentation'], vle['activity_type'])\n",
    "    execute_command(connection,create_row)"
   ]
  },
  {
   "cell_type": "code",
   "execution_count": null,
   "id": "79f0b603",
   "metadata": {},
   "outputs": [],
   "source": []
  }
 ],
 "metadata": {
  "kernelspec": {
   "display_name": "Python 3",
   "language": "python",
   "name": "python3"
  },
  "language_info": {
   "codemirror_mode": {
    "name": "ipython",
    "version": 3
   },
   "file_extension": ".py",
   "mimetype": "text/x-python",
   "name": "python",
   "nbconvert_exporter": "python",
   "pygments_lexer": "ipython3",
   "version": "3.8.8"
  }
 },
 "nbformat": 4,
 "nbformat_minor": 5
}
