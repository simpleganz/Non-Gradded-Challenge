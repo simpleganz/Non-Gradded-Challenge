{
 "cells": [
  {
   "cell_type": "markdown",
   "id": "977fbd06",
   "metadata": {},
   "source": [
    "# 1. BuatlahTensor di bawah ini dengan Python:"
   ]
  },
  {
   "cell_type": "code",
   "execution_count": 25,
   "id": "3c01ea02",
   "metadata": {
    "scrolled": true
   },
   "outputs": [
    {
     "data": {
      "text/plain": [
       "array([[[23, 50],\n",
       "        [ 7, 12]],\n",
       "\n",
       "       [[57, 67],\n",
       "        [99, 43]],\n",
       "\n",
       "       [[75, 21],\n",
       "        [57, 12]],\n",
       "\n",
       "       [[87, 26],\n",
       "        [18, 84]]])"
      ]
     },
     "execution_count": 25,
     "metadata": {},
     "output_type": "execute_result"
    }
   ],
   "source": [
    "np.array([\n",
    "    [[23,50], [7,12]],\n",
    "    [[57,67], [99,43]],\n",
    "    [[75,21], [57,12]],\n",
    "    [[87,26], [18,84]],\n",
    "    ])"
   ]
  },
  {
   "cell_type": "markdown",
   "id": "0cda4647",
   "metadata": {},
   "source": [
    "# 2. Lakukan perkalian terhadap matrix berikut:"
   ]
  },
  {
   "cell_type": "code",
   "execution_count": 48,
   "id": "eb830e6a",
   "metadata": {},
   "outputs": [],
   "source": [
    "matrix_A = np.array([[23,50,19], [7,12,109], [57,67,98]])\n",
    "matrix_B = np.array([[17], [22], [19]])"
   ]
  },
  {
   "cell_type": "code",
   "execution_count": 57,
   "id": "9ef4eaad",
   "metadata": {},
   "outputs": [
    {
     "name": "stdout",
     "output_type": "stream",
     "text": [
      "[[ 23  50  19]\n",
      " [  7  12 109]\n",
      " [ 57  67  98]]\n"
     ]
    },
    {
     "data": {
      "text/plain": [
       "(3, 3)"
      ]
     },
     "execution_count": 57,
     "metadata": {},
     "output_type": "execute_result"
    }
   ],
   "source": [
    "print(matrix_A)\n",
    "matrix_A.shape"
   ]
  },
  {
   "cell_type": "code",
   "execution_count": 56,
   "id": "348e1dcb",
   "metadata": {
    "scrolled": true
   },
   "outputs": [
    {
     "name": "stdout",
     "output_type": "stream",
     "text": [
      "[[17]\n",
      " [22]\n",
      " [19]]\n"
     ]
    },
    {
     "data": {
      "text/plain": [
       "(3, 1)"
      ]
     },
     "execution_count": 56,
     "metadata": {},
     "output_type": "execute_result"
    }
   ],
   "source": [
    "print(matrix_B)\n",
    "matrix_B.shape"
   ]
  },
  {
   "cell_type": "code",
   "execution_count": 62,
   "id": "b13101a9",
   "metadata": {
    "scrolled": true
   },
   "outputs": [
    {
     "name": "stdout",
     "output_type": "stream",
     "text": [
      "[[1852]\n",
      " [2454]\n",
      " [4305]]\n"
     ]
    }
   ],
   "source": [
    "# perkalian matrix seperti perkalian dot product\n",
    "print(matrix_A@matrix_B)"
   ]
  },
  {
   "cell_type": "markdown",
   "id": "466bbb85",
   "metadata": {},
   "source": [
    "# 3. Lakukan Transpose, hitung determinan, dan inverse terhadap matrix dibawah ini:"
   ]
  },
  {
   "cell_type": "code",
   "execution_count": 59,
   "id": "6649ba38",
   "metadata": {
    "scrolled": false
   },
   "outputs": [
    {
     "name": "stdout",
     "output_type": "stream",
     "text": [
      "[[ 23  50  19]\n",
      " [  7  12 109]\n",
      " [ 57  67  98]]\n"
     ]
    }
   ],
   "source": [
    "A = np.array([[23, 50, 19], [7,12,109], [57,67,98]])\n",
    "print(A)"
   ]
  },
  {
   "cell_type": "code",
   "execution_count": 65,
   "id": "e41f8950",
   "metadata": {},
   "outputs": [
    {
     "name": "stdout",
     "output_type": "stream",
     "text": [
      "[[ 23   7  57]\n",
      " [ 50  12  67]\n",
      " [ 19 109  98]]\n"
     ]
    }
   ],
   "source": [
    "# Transpose dari matriks A\n",
    "print(A.T)"
   ]
  },
  {
   "cell_type": "code",
   "execution_count": 64,
   "id": "d6b1bc81",
   "metadata": {},
   "outputs": [
    {
     "name": "stdout",
     "output_type": "stream",
     "text": [
      "131344.0000000002\n"
     ]
    }
   ],
   "source": [
    "# determinan\n",
    "print(np.linalg.det(A))"
   ]
  },
  {
   "cell_type": "code",
   "execution_count": 66,
   "id": "152ecf1e",
   "metadata": {},
   "outputs": [
    {
     "name": "stdout",
     "output_type": "stream",
     "text": [
      "[[-0.0466485  -0.02761451  0.03975819]\n",
      " [ 0.04208034  0.00891552 -0.01807467]\n",
      " [-0.00163692  0.0099662  -0.00056341]]\n"
     ]
    }
   ],
   "source": [
    "# inverse\n",
    "print(np.linalg.inv(A))"
   ]
  }
 ],
 "metadata": {
  "kernelspec": {
   "display_name": "Python 3",
   "language": "python",
   "name": "python3"
  },
  "language_info": {
   "codemirror_mode": {
    "name": "ipython",
    "version": 3
   },
   "file_extension": ".py",
   "mimetype": "text/x-python",
   "name": "python",
   "nbconvert_exporter": "python",
   "pygments_lexer": "ipython3",
   "version": "3.8.8"
  }
 },
 "nbformat": 4,
 "nbformat_minor": 5
}
