{
 "cells": [
  {
   "cell_type": "markdown",
   "id": "e7b7ca0f",
   "metadata": {},
   "source": [
    "![gambar](capture.png)"
   ]
  },
  {
   "cell_type": "code",
   "execution_count": 1,
   "id": "4c262937",
   "metadata": {},
   "outputs": [],
   "source": [
    "import sympy as sy\n",
    "import numpy as np\n",
    "from sympy.tensor.array import derive_by_array\n",
    "x,y = sy.symbols('x y')"
   ]
  },
  {
   "cell_type": "code",
   "execution_count": 3,
   "id": "ef9d9807",
   "metadata": {},
   "outputs": [],
   "source": [
    "f = 3*x+4*y-5"
   ]
  },
  {
   "cell_type": "code",
   "execution_count": 9,
   "id": "6c7cb740",
   "metadata": {
    "scrolled": false
   },
   "outputs": [
    {
     "data": {
      "text/latex": [
       "$\\displaystyle \\left[\\begin{matrix}3 & 4\\end{matrix}\\right]$"
      ],
      "text/plain": [
       "[3, 4]"
      ]
     },
     "execution_count": 9,
     "metadata": {},
     "output_type": "execute_result"
    }
   ],
   "source": [
    "# mencari gradien/turunan terhadap x dan y\n",
    "derive_by_array(f, (x,y))"
   ]
  },
  {
   "cell_type": "code",
   "execution_count": 15,
   "id": "e2413761",
   "metadata": {},
   "outputs": [
    {
     "data": {
      "text/latex": [
       "$\\displaystyle 3$"
      ],
      "text/plain": [
       "3"
      ]
     },
     "execution_count": 15,
     "metadata": {},
     "output_type": "execute_result"
    }
   ],
   "source": [
    "# jika diturunkan satu per satu\n",
    "sy.diff(f,(x))"
   ]
  },
  {
   "cell_type": "code",
   "execution_count": 14,
   "id": "477e64fc",
   "metadata": {},
   "outputs": [
    {
     "data": {
      "text/latex": [
       "$\\displaystyle 4$"
      ],
      "text/plain": [
       "4"
      ]
     },
     "execution_count": 14,
     "metadata": {},
     "output_type": "execute_result"
    }
   ],
   "source": [
    "sy.diff(f,(y))"
   ]
  }
 ],
 "metadata": {
  "kernelspec": {
   "display_name": "Python 3",
   "language": "python",
   "name": "python3"
  },
  "language_info": {
   "codemirror_mode": {
    "name": "ipython",
    "version": 3
   },
   "file_extension": ".py",
   "mimetype": "text/x-python",
   "name": "python",
   "nbconvert_exporter": "python",
   "pygments_lexer": "ipython3",
   "version": "3.8.8"
  }
 },
 "nbformat": 4,
 "nbformat_minor": 5
}
