{
 "cells": [
  {
   "cell_type": "code",
   "execution_count": 1,
   "id": "4da07c0b",
   "metadata": {},
   "outputs": [],
   "source": [
    "import numpy as np"
   ]
  },
  {
   "cell_type": "code",
   "execution_count": 3,
   "id": "141092e6",
   "metadata": {},
   "outputs": [
    {
     "name": "stdout",
     "output_type": "stream",
     "text": [
      "[1 3]\n"
     ]
    }
   ],
   "source": [
    "vect_A=np.array([1,3])\n",
    "print(vect_A)"
   ]
  },
  {
   "cell_type": "code",
   "execution_count": 4,
   "id": "81aa8151",
   "metadata": {},
   "outputs": [
    {
     "data": {
      "text/plain": [
       "(2,)"
      ]
     },
     "execution_count": 4,
     "metadata": {},
     "output_type": "execute_result"
    }
   ],
   "source": [
    "vect_A.shape"
   ]
  },
  {
   "cell_type": "code",
   "execution_count": 28,
   "id": "6d6537f2",
   "metadata": {},
   "outputs": [
    {
     "name": "stdout",
     "output_type": "stream",
     "text": [
      "[[ 1 -1]\n",
      " [ 6  4]]\n"
     ]
    }
   ],
   "source": [
    "matrix_A=np.array([[1,-1],[6,4]])\n",
    "print(A)"
   ]
  },
  {
   "cell_type": "code",
   "execution_count": 32,
   "id": "8c28aba7",
   "metadata": {},
   "outputs": [],
   "source": [
    "# decomposition\n",
    "eigVal_A,eigVec_A=np.linalg.eig(matrix_A)"
   ]
  },
  {
   "cell_type": "code",
   "execution_count": 31,
   "id": "b0c9794b",
   "metadata": {
    "scrolled": true
   },
   "outputs": [
    {
     "name": "stdout",
     "output_type": "stream",
     "text": [
      "[2.5+1.93649167j 2.5-1.93649167j]\n",
      "[[-0.23145502+0.29880715j -0.23145502-0.29880715j]\n",
      " [ 0.9258201 +0.j          0.9258201 -0.j        ]]\n"
     ]
    }
   ],
   "source": [
    "print(eigVal_A)\n",
    "print(eigVec_A)"
   ]
  },
  {
   "cell_type": "code",
   "execution_count": 37,
   "id": "3d581875",
   "metadata": {},
   "outputs": [
    {
     "name": "stdout",
     "output_type": "stream",
     "text": [
      "[19.          3.66666667]\n"
     ]
    }
   ],
   "source": [
    "eigen_value = vect_A@matrix_A/vect_A\n",
    "print(eigen_value)"
   ]
  },
  {
   "cell_type": "code",
   "execution_count": 39,
   "id": "a24330a6",
   "metadata": {},
   "outputs": [
    {
     "name": "stdout",
     "output_type": "stream",
     "text": [
      "[-2.  6.]\n"
     ]
    }
   ],
   "source": [
    "# cara 2\n",
    "eig_val=matrix_A@vect_A/vect_A\n",
    "print(eig_val)"
   ]
  },
  {
   "cell_type": "code",
   "execution_count": null,
   "id": "e989dfa1",
   "metadata": {},
   "outputs": [],
   "source": []
  }
 ],
 "metadata": {
  "kernelspec": {
   "display_name": "Python 3",
   "language": "python",
   "name": "python3"
  },
  "language_info": {
   "codemirror_mode": {
    "name": "ipython",
    "version": 3
   },
   "file_extension": ".py",
   "mimetype": "text/x-python",
   "name": "python",
   "nbconvert_exporter": "python",
   "pygments_lexer": "ipython3",
   "version": "3.8.8"
  }
 },
 "nbformat": 4,
 "nbformat_minor": 5
}
