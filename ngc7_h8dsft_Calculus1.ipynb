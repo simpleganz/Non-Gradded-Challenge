{
 "cells": [
  {
   "cell_type": "code",
   "execution_count": 26,
   "id": "5b66c227",
   "metadata": {},
   "outputs": [],
   "source": [
    "#@title\n",
    "%matplotlib inline\n",
    "import matplotlib as mpl\n",
    "import matplotlib.pyplot as plt\n",
    "import numpy as np\n",
    "import sympy as sy\n",
    "\n",
    "# To get smooth animations\n",
    "import matplotlib.animation as animation\n",
    "mpl.rc('animation', html='jshtml')"
   ]
  },
  {
   "cell_type": "code",
   "execution_count": 28,
   "id": "945eaa79",
   "metadata": {},
   "outputs": [
    {
     "data": {
      "image/png": "[encoded data removed]",
      "text/plain": [
       "<Figure size 432x288 with 1 Axes>"
      ]
     },
     "metadata": {
      "needs_background": "light"
     },
     "output_type": "display_data"
    }
   ],
   "source": [
    "#@title\n",
    "def get_AB_line(A_pos, B_pos, x_min=-1000, x_max=+1000):\n",
    "    rise = B_pos[1] - A_pos[1]\n",
    "    run = B_pos[0] - A_pos[0]\n",
    "    slope = rise / run\n",
    "    offset = A_pos[1] - slope * A_pos[0]\n",
    "    return [x_min, x_max], [x_min * slope + offset, x_max * slope + offset]\n",
    "\n",
    "def plot_AB_line(A_pos, B_pos, A_name=\"A\", B_name=\"B\"):\n",
    "    for point, name in ((A_pos, A_name), (B_pos, B_name)):\n",
    "        plt.plot(point[0], point[1], \"bo\")\n",
    "        plt.text(point[0] - 0.35, point[1], name, fontsize=14)\n",
    "    xs, ys = get_AB_line(A_pos, B_pos)\n",
    "    plt.plot(xs, ys)\n",
    "\n",
    "def plot_rise_over_run(A_pos, B_pos):\n",
    "    plt.plot([A_pos[0], B_pos[0]], [A_pos[1], A_pos[1]], \"k--\")\n",
    "    plt.text((A_pos[0] + B_pos[0]) / 2, A_pos[1] - 0.4, \"run\", fontsize=14)\n",
    "    plt.plot([B_pos[0], B_pos[0]], [A_pos[1], B_pos[1]], \"k--\")\n",
    "    plt.text(B_pos[0] + 0.2, (A_pos[1] + B_pos[1]) / 2, \"rise\", fontsize=14)\n",
    "\n",
    "def show(axis=\"equal\", ax=None, title=None, xlabel=\"$x$\", ylabel=\"$y$\"):\n",
    "    ax = ax or plt.gca()\n",
    "    ax.axis(axis)\n",
    "    ax.grid()\n",
    "    ax.set_title(title, fontsize=14)\n",
    "    ax.set_xlabel(xlabel, fontsize=14)\n",
    "    ax.set_ylabel(ylabel, fontsize=14, rotation=0)\n",
    "    ax.axhline(y=0, color='k')\n",
    "    ax.axvline(x=0, color='k')\n",
    "\n",
    "A_pos = np.array([1, 1])\n",
    "B_pos = np.array([7, 4])\n",
    "plot_AB_line(A_pos, B_pos)\n",
    "plot_rise_over_run(A_pos, B_pos)\n",
    "show([0, 8.4, 0, 5.5], title=\"Slope = rise / run\")"
   ]
  },
  {
   "cell_type": "code",
   "execution_count": 8,
   "id": "5c5ce4c9",
   "metadata": {},
   "outputs": [
    {
     "data": {
      "text/latex": [
       "$\\displaystyle 2 x + 2$"
      ],
      "text/plain": [
       "2*x + 2"
      ]
     },
     "execution_count": 8,
     "metadata": {},
     "output_type": "execute_result"
    }
   ],
   "source": [
    "# cari turunan fungsi y = x^2+2x+1 dan y = 4x^3-3x^2+2x-1\n",
    "# definisikan x = symbol\n",
    "x = sy.Symbol(\"x\", real=True)\n",
    "f = x**2+2*x+1\n",
    "f.diff(x)"
   ]
  },
  {
   "cell_type": "code",
   "execution_count": 5,
   "id": "d1dc984a",
   "metadata": {
    "scrolled": true
   },
   "outputs": [
    {
     "data": {
      "text/latex": [
       "$\\displaystyle 12 x^{2} - 6 x + 2$"
      ],
      "text/plain": [
       "12*x**2 - 6*x + 2"
      ]
     },
     "execution_count": 5,
     "metadata": {},
     "output_type": "execute_result"
    }
   ],
   "source": [
    "f = 4*x**3-3*x**2+2*x-1\n",
    "f.diff(x)"
   ]
  },
  {
   "cell_type": "code",
   "execution_count": 46,
   "id": "8e5d1015",
   "metadata": {
    "scrolled": true
   },
   "outputs": [
    {
     "data": {
      "text/plain": [
       "array([ 0.        ,  0.40816327,  0.81632653,  1.2244898 ,  1.63265306,\n",
       "        2.04081633,  2.44897959,  2.85714286,  3.26530612,  3.67346939,\n",
       "        4.08163265,  4.48979592,  4.89795918,  5.30612245,  5.71428571,\n",
       "        6.12244898,  6.53061224,  6.93877551,  7.34693878,  7.75510204,\n",
       "        8.16326531,  8.57142857,  8.97959184,  9.3877551 ,  9.79591837,\n",
       "       10.20408163, 10.6122449 , 11.02040816, 11.42857143, 11.83673469,\n",
       "       12.24489796, 12.65306122, 13.06122449, 13.46938776, 13.87755102,\n",
       "       14.28571429, 14.69387755, 15.10204082, 15.51020408, 15.91836735,\n",
       "       16.32653061, 16.73469388, 17.14285714, 17.55102041, 17.95918367,\n",
       "       18.36734694, 18.7755102 , 19.18367347, 19.59183673, 20.        ])"
      ]
     },
     "execution_count": 46,
     "metadata": {},
     "output_type": "execute_result"
    }
   ],
   "source": [
    "# turunan numerical\n",
    "import numpy as np\n",
    "np.linspace(0,20)"
   ]
  },
  {
   "cell_type": "code",
   "execution_count": 47,
   "id": "540220a3",
   "metadata": {},
   "outputs": [
    {
     "data": {
      "text/plain": [
       "array([ 2.40816327,  3.2244898 ,  4.04081633,  4.85714286,  5.67346939,\n",
       "        6.48979592,  7.30612245,  8.12244898,  8.93877551,  9.75510204,\n",
       "       10.57142857, 11.3877551 , 12.20408163, 13.02040816, 13.83673469,\n",
       "       14.65306122, 15.46938776, 16.28571429, 17.10204082, 17.91836735,\n",
       "       18.73469388, 19.55102041, 20.36734694, 21.18367347, 22.        ,\n",
       "       22.81632653, 23.63265306, 24.44897959, 25.26530612, 26.08163265,\n",
       "       26.89795918, 27.71428571, 28.53061224, 29.34693878, 30.16326531,\n",
       "       30.97959184, 31.79591837, 32.6122449 , 33.42857143, 34.24489796,\n",
       "       35.06122449, 35.87755102, 36.69387755, 37.51020408, 38.32653061,\n",
       "       39.14285714, 39.95918367, 40.7755102 , 41.59183673])"
      ]
     },
     "execution_count": 47,
     "metadata": {},
     "output_type": "execute_result"
    }
   ],
   "source": [
    "x = np.linspace(0,20)\n",
    "y = x**2+2*x+1\n",
    "np.diff(y)/np.diff(x)"
   ]
  },
  {
   "cell_type": "code",
   "execution_count": 48,
   "id": "56cee305",
   "metadata": {},
   "outputs": [
    {
     "data": {
      "text/plain": [
       "array([ 2.40816327,  2.81632653,  3.63265306,  4.44897959,  5.26530612,\n",
       "        6.08163265,  6.89795918,  7.71428571,  8.53061224,  9.34693878,\n",
       "       10.16326531, 10.97959184, 11.79591837, 12.6122449 , 13.42857143,\n",
       "       14.24489796, 15.06122449, 15.87755102, 16.69387755, 17.51020408,\n",
       "       18.32653061, 19.14285714, 19.95918367, 20.7755102 , 21.59183673,\n",
       "       22.40816327, 23.2244898 , 24.04081633, 24.85714286, 25.67346939,\n",
       "       26.48979592, 27.30612245, 28.12244898, 28.93877551, 29.75510204,\n",
       "       30.57142857, 31.3877551 , 32.20408163, 33.02040816, 33.83673469,\n",
       "       34.65306122, 35.46938776, 36.28571429, 37.10204082, 37.91836735,\n",
       "       38.73469388, 39.55102041, 40.36734694, 41.18367347, 41.59183673])"
      ]
     },
     "execution_count": 48,
     "metadata": {},
     "output_type": "execute_result"
    }
   ],
   "source": [
    "np.gradient(y,x)"
   ]
  },
  {
   "cell_type": "code",
   "execution_count": 49,
   "id": "2847d596",
   "metadata": {},
   "outputs": [
    {
     "data": {
      "text/plain": [
       "-1.0000000000000002"
      ]
     },
     "execution_count": 49,
     "metadata": {},
     "output_type": "execute_result"
    }
   ],
   "source": [
    "from scipy.optimize import minimize_scalar\n",
    "\n",
    "def f(x):\n",
    "  return x**2+2*x+1 #x^2+2x+1\n",
    "\n",
    "opt = minimize_scalar(f)\n",
    "opt.x"
   ]
  },
  {
   "cell_type": "code",
   "execution_count": 50,
   "id": "a6b4b9a7",
   "metadata": {},
   "outputs": [
    {
     "data": {
      "image/png": "[encoded data removed]",
      "text/plain": [
       "<Figure size 432x288 with 1 Axes>"
      ]
     },
     "metadata": {
      "needs_background": "light"
     },
     "output_type": "display_data"
    }
   ],
   "source": [
    "xs = np.linspace(-5, 5, 100)\n",
    "ys = f(xs)\n",
    "plt.plot(xs, ys)\n",
    "show(axis=[-3, 2, -10, 10], title=r\"$f(x)=x^2+2x+1$\")"
   ]
  },
  {
   "cell_type": "code",
   "execution_count": null,
   "id": "333bb605",
   "metadata": {},
   "outputs": [],
   "source": []
  }
 ],
 "metadata": {
  "kernelspec": {
   "display_name": "Python 3",
   "language": "python",
   "name": "python3"
  },
  "language_info": {
   "codemirror_mode": {
    "name": "ipython",
    "version": 3
   },
   "file_extension": ".py",
   "mimetype": "text/x-python",
   "name": "python",
   "nbconvert_exporter": "python",
   "pygments_lexer": "ipython3",
   "version": "3.8.8"
  }
 },
 "nbformat": 4,
 "nbformat_minor": 5
}
