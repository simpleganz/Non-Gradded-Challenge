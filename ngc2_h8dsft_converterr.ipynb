{
 "cells": [
  {
   "cell_type": "markdown",
   "id": "75c64ca2",
   "metadata": {},
   "source": [
    "▪Buatlah sebuah function yang dapat mengkonversi suhu dari kelvin ke celcius, dan celcius ke kelvin.\n",
    "▪Buatlah sebuah function yang dapat mengkonversi suhu ke fahrenheit. Tambahkan parameter untuk memastikan bahwa argumen yang dimasukan adalah celcius atau kelvin. Panggil function yang pertama jika diperlukan.\n",
    "▪Buatlah sebuah function yang dapat mengkonversi suhu dari fahrenheit. Berikan argumen untuk memastikan bahwa outputnya dalah celcius atau kelvin.▪Berikan dokumentasi pada setiap baris kode yang kalian tulis."
   ]
  },
  {
   "cell_type": "code",
   "execution_count": 29,
   "id": "5f7b05a1",
   "metadata": {},
   "outputs": [
    {
     "name": "stdout",
     "output_type": "stream",
     "text": [
      "suhu celcius= 573.15\n",
      "suhu kelvin= 27 15\n"
     ]
    }
   ],
   "source": [
    "def temp(celc, kelv):\n",
    "    '''fungsi untuk mengubabah celcius ke kelvin dan sebaliknya'''\n",
    "    print('suhu celcius=', celc+273.15)\n",
    "    print('suhu kelvin=', kelv-273,15)\n",
    "temp(300,300)"
   ]
  },
  {
   "cell_type": "code",
   "execution_count": 42,
   "id": "87211e78",
   "metadata": {},
   "outputs": [
    {
     "name": "stdout",
     "output_type": "stream",
     "text": [
      "suhu celcius ke fahrenheit 572.0\n",
      "suhu kelvin ke fahrenheit 80.33000000000004\n"
     ]
    }
   ],
   "source": [
    "def fahren(celc, kelv):\n",
    "    '''fungsi untuk mengubah fahrenheit ke celcius dan kelvin'''\n",
    "    print('suhu celcius ke fahrenheit', celc*9/5+32)\n",
    "    print('suhu kelvin ke fahrenheit', (kelv-273.15)*9/5+32)\n",
    "fahren(300,300)"
   ]
  },
  {
   "cell_type": "code",
   "execution_count": 3,
   "id": "04bd90ef",
   "metadata": {
    "scrolled": false
   },
   "outputs": [
    {
     "name": "stdout",
     "output_type": "stream",
     "text": [
      "Temperature in Celsius to Kelvin :  553.15\n",
      "Temperature in Kelvin to Celsius :  6.850000000000023\n"
     ]
    }
   ],
   "source": [
    "def convert_temp(mode, temp):\n",
    "  def kelvin_2_celsius(temp):\n",
    "    temp = temp - 273.15\n",
    "    return temp\n",
    "\n",
    "  def celsius_2_kelvin(temp):\n",
    "    temp = temp + 273.15\n",
    "    return temp\n",
    "\n",
    "  if mode == 'kel2cel':\n",
    "    return kelvin_2_celsius(temp)\n",
    "  else:\n",
    "    return celsius_2_kelvin(temp)\n",
    "\n",
    "temperature = 280\n",
    "\n",
    "print('Temperature in Celsius to Kelvin : ', convert_temp(temp=temperature, mode='cel2kel'))\n",
    "print('Temperature in Kelvin to Celsius : ', convert_temp(temp=temperature, mode='kel2cel'))"
   ]
  },
  {
   "cell_type": "code",
   "execution_count": 4,
   "id": "aa0304bc",
   "metadata": {
    "scrolled": true
   },
   "outputs": [
    {
     "name": "stdout",
     "output_type": "stream",
     "text": [
      "Temperature in Celsius to Fahrenheit :  536.0\n",
      "Temperature in Kelvin to Fahrenheit  :  44.33000000000004\n"
     ]
    }
   ],
   "source": [
    "def convert_to_fahrenheit(temp, mode='celsius'):\n",
    "  '''\n",
    "  This function is used to convert cel/kel to fah.\n",
    "  :param temp: temperature | int\n",
    "  :param type_cel: option if input is in Celsius | str\n",
    "  :return: temp: Output temperature | int\n",
    "  '''\n",
    "\n",
    "  # Convert Celsius to Fahrenheit\n",
    "  if mode=='celsius':\n",
    "    temp = (temp * 9 /5) + 32\n",
    "  else:\n",
    "    # Convert Kelvin to Fahrenheit\n",
    "    temp = ((temp - 273.15) * 9 /5) + 32\n",
    "  \n",
    "  return temp\n",
    "\n",
    "  temperature = 280\n",
    "\n",
    "print('Temperature in Celsius to Fahrenheit : ', convert_to_fahrenheit(temperature))\n",
    "print('Temperature in Kelvin to Fahrenheit  : ', convert_to_fahrenheit(temperature, mode='Kelvin'))"
   ]
  },
  {
   "cell_type": "code",
   "execution_count": 8,
   "id": "7e592375",
   "metadata": {},
   "outputs": [
    {
     "name": "stdout",
     "output_type": "stream",
     "text": [
      "perubahan suhu kelvin ke celcius 573.15\n",
      "perubahan suhu celcius ke kelvin 26.850000000000023\n"
     ]
    }
   ],
   "source": [
    "def temp(celc, kelv):\n",
    "    '''fungsi untuk mengubabah celcius ke kelvin dan sebaliknya'''\n",
    "    celcius=celc+273.15\n",
    "    print('perubahan suhu kelvin ke celcius', celcius)\n",
    "    kelvin=kelv-273.15\n",
    "    print('perubahan suhu celcius ke kelvin', kelvin)\n",
    "temp(300,300)"
   ]
  },
  {
   "cell_type": "code",
   "execution_count": 17,
   "id": "5a97b41a",
   "metadata": {
    "scrolled": true
   },
   "outputs": [
    {
     "name": "stdout",
     "output_type": "stream",
     "text": [
      "200\n"
     ]
    }
   ],
   "source": [
    "def hitung_luas_tanah(pjg,lebar):\n",
    "    luas=pjg*lebar\n",
    "    return luas\n",
    "def hitung_jual_tanah(luas,hargapermeter):\n",
    "    jual=luas*hargapermeter\n",
    "    return jual\n",
    "x=luas_tanah=hitung_luas_tanah(20,10)\n",
    "hargameteran=100000\n",
    "z=hitung_jual_tanah(luas_tanah, hargameteran)\n",
    "print(x)"
   ]
  },
  {
   "cell_type": "code",
   "execution_count": 31,
   "id": "c36d7b34",
   "metadata": {},
   "outputs": [
    {
     "name": "stdout",
     "output_type": "stream",
     "text": [
      "20\n"
     ]
    }
   ],
   "source": [
    "def convert(celc,kelv):\n",
    "    suhu=celc+kelv\n",
    "    return suhu\n",
    "x=convert(10,10)\n",
    "print(x)"
   ]
  },
  {
   "cell_type": "code",
   "execution_count": 38,
   "id": "b575a16f",
   "metadata": {},
   "outputs": [
    {
     "name": "stdout",
     "output_type": "stream",
     "text": [
      "600\n"
     ]
    }
   ],
   "source": [
    "def convert(celc,kelv):\n",
    "    suhu=celc+kelv\n",
    "    return suhu\n",
    "\n",
    "suhu=250\n",
    "x=convert(300,300)\n",
    "print(x)"
   ]
  },
  {
   "cell_type": "code",
   "execution_count": 39,
   "id": "1ff83808",
   "metadata": {},
   "outputs": [
    {
     "name": "stdout",
     "output_type": "stream",
     "text": [
      "250\n"
     ]
    }
   ],
   "source": [
    "print(suhu)"
   ]
  },
  {
   "cell_type": "code",
   "execution_count": null,
   "id": "996b841a",
   "metadata": {},
   "outputs": [],
   "source": []
  }
 ],
 "metadata": {
  "kernelspec": {
   "display_name": "Python 3",
   "language": "python",
   "name": "python3"
  },
  "language_info": {
   "codemirror_mode": {
    "name": "ipython",
    "version": 3
   },
   "file_extension": ".py",
   "mimetype": "text/x-python",
   "name": "python",
   "nbconvert_exporter": "python",
   "pygments_lexer": "ipython3",
   "version": "3.8.8"
  }
 },
 "nbformat": 4,
 "nbformat_minor": 5
}
