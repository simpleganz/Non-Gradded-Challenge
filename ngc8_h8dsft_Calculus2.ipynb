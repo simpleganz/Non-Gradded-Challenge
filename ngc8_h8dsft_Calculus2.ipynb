{
 "cells": [
  {
   "cell_type": "markdown",
   "id": "6115d2b5",
   "metadata": {},
   "source": [
    "1 cari integral berikut : 3x^2-6x+3 dx dan 8x^3-x2+5x-1 dx"
   ]
  },
  {
   "cell_type": "code",
   "execution_count": 3,
   "id": "a197176a",
   "metadata": {},
   "outputs": [
    {
     "data": {
      "text/latex": [
       "$\\displaystyle \\frac{3 x^{4}}{4} - 3 x^{2} + 3 x$"
      ],
      "text/plain": [
       "3*x**4/4 - 3*x**2 + 3*x"
      ]
     },
     "execution_count": 3,
     "metadata": {},
     "output_type": "execute_result"
    }
   ],
   "source": [
    "import sympy as sy\n",
    "x = sy.Symbol(\"x\",real=True)\n",
    "f = 3*x**3-6*x+3\n",
    "sy.integrate(f)"
   ]
  },
  {
   "cell_type": "code",
   "execution_count": 4,
   "id": "f7371b52",
   "metadata": {},
   "outputs": [
    {
     "data": {
      "text/latex": [
       "$\\displaystyle 2 x^{4} - \\frac{x^{3}}{3} + \\frac{5 x^{2}}{2} - x$"
      ],
      "text/plain": [
       "2*x**4 - x**3/3 + 5*x**2/2 - x"
      ]
     },
     "execution_count": 4,
     "metadata": {},
     "output_type": "execute_result"
    }
   ],
   "source": [
    "import sympy as sy\n",
    "x = sy.Symbol(\"x\",real=True)\n",
    "f = 8*x**3-x**2+5*x-1\n",
    "sy.integrate(f)"
   ]
  }
 ],
 "metadata": {
  "kernelspec": {
   "display_name": "Python 3",
   "language": "python",
   "name": "python3"
  },
  "language_info": {
   "codemirror_mode": {
    "name": "ipython",
    "version": 3
   },
   "file_extension": ".py",
   "mimetype": "text/x-python",
   "name": "python",
   "nbconvert_exporter": "python",
   "pygments_lexer": "ipython3",
   "version": "3.8.8"
  }
 },
 "nbformat": 4,
 "nbformat_minor": 5
}
